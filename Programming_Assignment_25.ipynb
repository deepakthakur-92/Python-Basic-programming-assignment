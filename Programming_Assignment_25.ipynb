{
 "cells": [
  {
   "cell_type": "code",
   "execution_count": null,
   "metadata": {},
   "outputs": [],
   "source": [
    "'''\n",
    "Question2. Write a function that converts a dictionary into a list of keys-values tuples.\n",
    "\n",
    "Examples\n",
    "\n",
    "dict_to_list({\"D\": 1, \"B\": 2, \"C\": 3}) ➞ [(\"B\", 2), (\"C\", 3), (\"D\", 1)]\n",
    "\n",
    "dict_to_list({\"likes\": 2, \"dislikes\": 3, \"followers\": 10}) ➞ [(\"dislikes\", 3), (\"followers\", 10), (\"likes\", 2)]\n",
    "\n",
    "Notes\n",
    "\n",
    "Return the elements in the list in alphabetical order.\n",
    "'''"
   ]
  },
  {
   "cell_type": "code",
   "execution_count": 1,
   "metadata": {},
   "outputs": [
    {
     "name": "stdout",
     "output_type": "stream",
     "text": [
      "[('B', 2), ('C', 3), ('D', 1)]\n",
      "------------------------------\n",
      "[('dislikes', 3), ('followers', 10), ('likes', 2)]\n"
     ]
    }
   ],
   "source": [
    "class Convert:\n",
    "\n",
    "    def __init__(self,d):\n",
    "        self.d = d\n",
    "\n",
    "    def dict_to_list(self):\n",
    "        try:\n",
    "            l = []\n",
    "            for i in self.d.items():\n",
    "                l.append(i)\n",
    "\n",
    "            return sorted(l)\n",
    "\n",
    "        except Exception as e:\n",
    "            print(e)\n",
    "\n",
    "    def __str__(self):\n",
    "\n",
    "        return 'The Given Function Is Written Inside The Class & Can Be Used For Convert Dict Into List By Alphabetical Order.'\n",
    "    \n",
    "#Calling Class\n",
    "c = Convert({\"D\": 1, \"B\": 2, \"C\": 3})\n",
    "print(c.dict_to_list())\n",
    "print('---'*10)\n",
    "\n",
    "c = Convert({\"likes\": 2, \"dislikes\": 3, \"followers\": 10})\n",
    "print(c.dict_to_list())"
   ]
  },
  {
   "cell_type": "code",
   "execution_count": null,
   "metadata": {},
   "outputs": [],
   "source": [
    "'''\n",
    "Question3. Write a function that creates a dictionary with each (key, value) pair being the (lower case, upper case) versions of a letter, respectively.\n",
    "\n",
    "Examples\n",
    "\n",
    "mapping([\"p\", \"s\"]) ➞ { \"p\": \"P\", \"s\": \"S\" }\n",
    "\n",
    "mapping([\"a\", \"b\", \"c\"]) ➞ { \"a\": \"A\", \"b\": \"B\", \"c\": \"C\" }\n",
    "\n",
    "mapping([\"a\", \"v\", \"y\", \"z\"]) ➞ { \"a\": \"A\", \"v\": \"V\", \"y\": \"Y\", \"z\": \"Z\" }\n",
    "\n",
    "Notes\n",
    "\n",
    "All of the letters in the input list will always be lowercase.\n",
    "'''"
   ]
  },
  {
   "cell_type": "code",
   "execution_count": 2,
   "metadata": {},
   "outputs": [
    {
     "name": "stdout",
     "output_type": "stream",
     "text": [
      "{'p': 'S', 's': 'S'}\n",
      "------------------------------\n",
      "{'a': 'C', 'b': 'C', 'c': 'C'}\n",
      "------------------------------\n",
      "{'a': 'Z', 'v': 'Z', 'y': 'Z', 'z': 'Z'}\n"
     ]
    }
   ],
   "source": [
    "class Mapping:\n",
    "\n",
    "    def __init__(self,d):\n",
    "        self.d = d\n",
    "\n",
    "    def mapping(self):\n",
    "        try:\n",
    "            for i in self.d:\n",
    "                d = dict.fromkeys(self.d,i.capitalize())\n",
    "\n",
    "            return d\n",
    "\n",
    "        except Exception as e:\n",
    "            print(e)\n",
    "\n",
    "    def __str__(self):\n",
    "\n",
    "        return 'The Given Function Is Written Inside The Class & Can Be Used For Mapping Purpose.'\n",
    "    \n",
    "#Calling Class\n",
    "m = Mapping([\"p\", \"s\"])\n",
    "print(m.mapping())\n",
    "print('---'*10)\n",
    "\n",
    "m = Mapping([\"a\", \"b\", \"c\"])\n",
    "print(m.mapping())\n",
    "print('---'*10)\n",
    "\n",
    "m = Mapping([\"a\", \"v\", \"y\", \"z\"])\n",
    "print(m.mapping())"
   ]
  },
  {
   "cell_type": "code",
   "execution_count": null,
   "metadata": {},
   "outputs": [],
   "source": [
    "'''\n",
    "Question4. Write a function, that replaces all vowels in a string with a specified vowel.\n",
    "\n",
    "Examples\n",
    "\n",
    "vow_replace(\"apples and bananas\", \"u\") ➞ \"upplus und bununus\"\n",
    "\n",
    "vow_replace(\"cheese casserole\", \"o\") ➞ \"chooso cossorolo\"\n",
    "\n",
    "vow_replace(\"stuffed jalapeno poppers\", \"e\") ➞ \"steffed jelepene peppers\"\n",
    "\n",
    "Notes\n",
    "\n",
    "All words will be lowercase. Y is not considered a vowel.\n",
    "'''"
   ]
  },
  {
   "cell_type": "code",
   "execution_count": 3,
   "metadata": {},
   "outputs": [
    {
     "name": "stdout",
     "output_type": "stream",
     "text": [
      "upplus und bununus\n",
      "------------------------------\n",
      "chooso cossorolo\n",
      "------------------------------\n",
      "steffed jelepene peppers\n"
     ]
    }
   ],
   "source": [
    "class Vowels:\n",
    "\n",
    "    def __init__(self,string,letter):\n",
    "        self.string = string\n",
    "        self.letter = letter\n",
    "\n",
    "    def vow_replace(self):\n",
    "        try:\n",
    "            vowels = 'aeiou'\n",
    "\n",
    "            for i in vowels:\n",
    "                self.string = self.string.replace(i,self.letter)\n",
    "\n",
    "            #print('\"{}\"'.format(empty))\n",
    "            return self.string\n",
    "\n",
    "        except Exception as e:\n",
    "            print(e)\n",
    "\n",
    "    def __str__(self):\n",
    "\n",
    "        return 'The Given Function Is Written Inside The Class & Can Be Used Replacing The Vowels In The Sring With The Given Vowels.'\n",
    "    \n",
    "#Calling Class\n",
    "v = Vowels(\"apples and bananas\",'u')\n",
    "print(v.vow_replace())\n",
    "print('---'*10)\n",
    "\n",
    "v = Vowels(\"cheese casserole\", \"o\")\n",
    "print(v.vow_replace())\n",
    "print('---'*10)\n",
    "\n",
    "v = Vowels(\"stuffed jalapeno poppers\", \"e\")\n",
    "print(v.vow_replace())"
   ]
  },
  {
   "cell_type": "code",
   "execution_count": null,
   "metadata": {},
   "outputs": [],
   "source": [
    "'''\n",
    "Question5. Create a function that takes a string as input and capitalizes a letter if its ASCII code is even and returns its lower case version if its ASCII code is odd.\n",
    "\n",
    "Examples\n",
    "\n",
    "ascii_capitalize(\"to be or not to be!\") ➞ \"To Be oR NoT To Be!\"\n",
    "\n",
    "ascii_capitalize(\"THE LITTLE MERMAID\") ➞ \"THe LiTTLe meRmaiD\"\n",
    "\n",
    "ascii_capitalize(\"Oh what a beautiful morning.\") ➞ \"oH wHaT a BeauTiFuL moRNiNg.\"\n",
    "'''"
   ]
  },
  {
   "cell_type": "code",
   "execution_count": 4,
   "metadata": {},
   "outputs": [],
   "source": [
    "class ASCII:\n",
    "\n",
    "    def __init__(self,string):\n",
    "        self.string = string\n",
    "\n",
    "    def ascii_capitalize(self):\n",
    "        try:\n",
    "            empty = []\n",
    "            for i in self.string:\n",
    "                if (ord(i) % 2 ==0):\n",
    "                    empty.append(i.upper())\n",
    "                else:\n",
    "                    empty.append(i.lower())\n",
    "\n",
    "            print('\"{}\"'.format(''.join(empty)))\n",
    "\n",
    "        except Exception as e:\n",
    "            print(e)\n",
    "\n",
    "    def __str__(self):\n",
    "\n",
    "        return 'The Given Function Is Written Inside The Class. It Can Be Used For Replacing The Word With Capital, If Its ASCII Is Even & Vice versa.' "
   ]
  },
  {
   "cell_type": "code",
   "execution_count": 5,
   "metadata": {},
   "outputs": [],
   "source": [
    "a = ASCII(\"to be or not to be!\")"
   ]
  },
  {
   "cell_type": "code",
   "execution_count": 6,
   "metadata": {},
   "outputs": [
    {
     "name": "stdout",
     "output_type": "stream",
     "text": [
      "\"To Be oR NoT To Be!\"\n"
     ]
    }
   ],
   "source": [
    "\n",
    "a.ascii_capitalize()"
   ]
  },
  {
   "cell_type": "code",
   "execution_count": 7,
   "metadata": {},
   "outputs": [],
   "source": [
    "\n",
    "a = ASCII(\"THE LITTLE MERMAID\")"
   ]
  },
  {
   "cell_type": "code",
   "execution_count": 8,
   "metadata": {},
   "outputs": [
    {
     "name": "stdout",
     "output_type": "stream",
     "text": [
      "\"THe LiTTLe meRmaiD\"\n"
     ]
    }
   ],
   "source": [
    "\n",
    "a.ascii_capitalize()"
   ]
  },
  {
   "cell_type": "code",
   "execution_count": 9,
   "metadata": {},
   "outputs": [],
   "source": [
    "\n",
    "a = ASCII(\"Oh what a beautiful morning.\")"
   ]
  },
  {
   "cell_type": "code",
   "execution_count": 10,
   "metadata": {},
   "outputs": [
    {
     "name": "stdout",
     "output_type": "stream",
     "text": [
      "\"oH wHaT a BeauTiFuL moRNiNg.\"\n"
     ]
    }
   ],
   "source": [
    "a.ascii_capitalize()"
   ]
  },
  {
   "cell_type": "code",
   "execution_count": null,
   "metadata": {},
   "outputs": [],
   "source": []
  }
 ],
 "metadata": {
  "kernelspec": {
   "display_name": "Python 3",
   "language": "python",
   "name": "python3"
  },
  "language_info": {
   "codemirror_mode": {
    "name": "ipython",
    "version": 3
   },
   "file_extension": ".py",
   "mimetype": "text/x-python",
   "name": "python",
   "nbconvert_exporter": "python",
   "pygments_lexer": "ipython3",
   "version": "3.8.5"
  }
 },
 "nbformat": 4,
 "nbformat_minor": 4
}
