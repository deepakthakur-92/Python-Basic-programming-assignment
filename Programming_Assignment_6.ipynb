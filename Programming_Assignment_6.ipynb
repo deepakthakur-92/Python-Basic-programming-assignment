{
 "cells": [
  {
   "cell_type": "code",
   "execution_count": null,
   "metadata": {},
   "outputs": [],
   "source": [
    "'''\n",
    "1. Write a Python Program to Display Fibonacci Sequence Using Recursion?\n",
    "\n",
    "'''"
   ]
  },
  {
   "cell_type": "code",
   "execution_count": 9,
   "metadata": {},
   "outputs": [
    {
     "name": "stdout",
     "output_type": "stream",
     "text": [
      "Enter a integer::10\n",
      "[0, 1, 1, 2, 3, 5, 8, 13, 21, 34]\n"
     ]
    }
   ],
   "source": [
    "def rec_fabonicci(n):\n",
    "    if n<=1:\n",
    "        return n\n",
    "    else:\n",
    "        return (rec_fabonicci(n-1) + rec_fabonicci(n-2))\n",
    "    \n",
    "\n",
    "r  = int(input(\"Enter a integer::\"))\n",
    "\n",
    "if r<=0:\n",
    "    print(\"Enter a postive integer\")\n",
    "else:\n",
    "    l = []\n",
    "    for i in range(r):\n",
    "        l.append(rec_fabonicci(i))\n",
    "        \n",
    "    print(l)"
   ]
  },
  {
   "cell_type": "code",
   "execution_count": null,
   "metadata": {},
   "outputs": [],
   "source": [
    "'''\n",
    "2. Write a Python Program to Find Factorial of Number Using Recursion?\n",
    "\n",
    "'''"
   ]
  },
  {
   "cell_type": "code",
   "execution_count": 14,
   "metadata": {},
   "outputs": [],
   "source": [
    "def rec(n):\n",
    "    if n==1:\n",
    "        return 1\n",
    "    else:\n",
    "        return (n * rec(n-1))\n",
    "    "
   ]
  },
  {
   "cell_type": "code",
   "execution_count": 15,
   "metadata": {},
   "outputs": [
    {
     "data": {
      "text/plain": [
       "24"
      ]
     },
     "execution_count": 15,
     "metadata": {},
     "output_type": "execute_result"
    }
   ],
   "source": [
    "rec(4)"
   ]
  },
  {
   "cell_type": "code",
   "execution_count": null,
   "metadata": {},
   "outputs": [],
   "source": [
    "'''\n",
    "3. Write a Python Program to calculate your Body Mass Index?\n",
    "'''"
   ]
  },
  {
   "cell_type": "code",
   "execution_count": 3,
   "metadata": {},
   "outputs": [
    {
     "name": "stdout",
     "output_type": "stream",
     "text": [
      "Enter the weight in kg::74\n",
      "Enter the hwight in cm::173\n",
      "You are Healthy\n"
     ]
    }
   ],
   "source": [
    "\n",
    "def cal_BMI(w,h):\n",
    "    res = (w/h/h)*10000\n",
    "    return res\n",
    "\n",
    "w = int(input(\"Enter the weight in kg::\"))\n",
    "h = int(input(\"Enter the hwight in cm::\"))\n",
    "\n",
    "bmi = cal_BMI(w,h)\n",
    "if (bmi < 18):\n",
    "    print(\"You are underweight\")\n",
    "elif (bmi >= 18.5 and bmi <24.9):\n",
    "    print(\"You are Healthy\")\n",
    "elif (bmi >=24.9 and bmi <30):\n",
    "    print(\"You are Overweight\")\n",
    "elif bmi>=30:\n",
    "    print(\"You have Obesity\")"
   ]
  },
  {
   "cell_type": "code",
   "execution_count": null,
   "metadata": {},
   "outputs": [],
   "source": [
    "'''\n",
    "4. Write a Python Program to calculate the natural logarithm of any number?\n",
    "'''"
   ]
  },
  {
   "cell_type": "code",
   "execution_count": 1,
   "metadata": {},
   "outputs": [
    {
     "name": "stdout",
     "output_type": "stream",
     "text": [
      "1.6094379124341003\n"
     ]
    }
   ],
   "source": [
    "import math\n",
    "nat_log = math.log(5)\n",
    "print(nat_log)"
   ]
  },
  {
   "cell_type": "code",
   "execution_count": null,
   "metadata": {},
   "outputs": [],
   "source": [
    "'''\n",
    "5. Write a Python Program for cube sum of first n natural numbers?\n",
    "'''"
   ]
  },
  {
   "cell_type": "code",
   "execution_count": 4,
   "metadata": {},
   "outputs": [],
   "source": [
    "def cubeSumOfNumbers(n):\n",
    "    sum = 0\n",
    "    for i in range(1, n+1):\n",
    "        sum = sum + i*i*i\n",
    "    return sum"
   ]
  },
  {
   "cell_type": "code",
   "execution_count": 5,
   "metadata": {},
   "outputs": [
    {
     "data": {
      "text/plain": [
       "225"
      ]
     },
     "execution_count": 5,
     "metadata": {},
     "output_type": "execute_result"
    }
   ],
   "source": [
    "cubeSumOfNumbers(5)"
   ]
  }
 ],
 "metadata": {
  "kernelspec": {
   "display_name": "Python 3",
   "language": "python",
   "name": "python3"
  },
  "language_info": {
   "codemirror_mode": {
    "name": "ipython",
    "version": 3
   },
   "file_extension": ".py",
   "mimetype": "text/x-python",
   "name": "python",
   "nbconvert_exporter": "python",
   "pygments_lexer": "ipython3",
   "version": "3.8.5"
  }
 },
 "nbformat": 4,
 "nbformat_minor": 4
}
