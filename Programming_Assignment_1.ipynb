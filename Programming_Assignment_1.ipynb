{
 "cells": [
  {
   "cell_type": "code",
   "execution_count": null,
   "metadata": {},
   "outputs": [],
   "source": [
    "'''\n",
    "1. Write a Python program to print 'Hello Python'?\n",
    "\n",
    "'''"
   ]
  },
  {
   "cell_type": "code",
   "execution_count": 2,
   "metadata": {},
   "outputs": [
    {
     "name": "stdout",
     "output_type": "stream",
     "text": [
      "Hello Pyhton\n"
     ]
    }
   ],
   "source": [
    "print('Hello Pyhton')"
   ]
  },
  {
   "cell_type": "code",
   "execution_count": null,
   "metadata": {},
   "outputs": [],
   "source": [
    "'''\n",
    "2. Write a Python program to do arithmetical operations addition and division.?\n",
    "'''"
   ]
  },
  {
   "cell_type": "code",
   "execution_count": 3,
   "metadata": {},
   "outputs": [
    {
     "name": "stdout",
     "output_type": "stream",
     "text": [
      "Enter 1st number::2\n",
      "Enter 2nd number::2\n",
      "Addition is:: 4\n",
      "Division is:: 1.0\n"
     ]
    }
   ],
   "source": [
    "a = int(input(\"Enter 1st number::\"))\n",
    "b = int(input(\"Enter 2nd number::\"))\n",
    "\n",
    "c = a+b\n",
    "print(\"Addition is::\",c)\n",
    "d = a/b\n",
    "print(\"Division is::\",d)"
   ]
  },
  {
   "cell_type": "code",
   "execution_count": null,
   "metadata": {},
   "outputs": [],
   "source": [
    "'''\n",
    "3. Write a Python program to find the area of a triangle?\n",
    "'''"
   ]
  },
  {
   "cell_type": "code",
   "execution_count": 5,
   "metadata": {},
   "outputs": [
    {
     "name": "stdout",
     "output_type": "stream",
     "text": [
      "Enter the height::20\n",
      "Enter the base::30\n",
      "Area of a traingle is:: 300.0\n"
     ]
    }
   ],
   "source": [
    "h = int(input(\"Enter the height::\"))\n",
    "b = int(input(\"Enter the base::\"))\n",
    "\n",
    "area = h*b/2\n",
    "\n",
    "print(\"Area of a traingle is::\", area)"
   ]
  },
  {
   "cell_type": "code",
   "execution_count": null,
   "metadata": {},
   "outputs": [],
   "source": [
    "'''\n",
    "4. Write a Python program to swap two variables?\n",
    "'''"
   ]
  },
  {
   "cell_type": "code",
   "execution_count": 7,
   "metadata": {},
   "outputs": [
    {
     "name": "stdout",
     "output_type": "stream",
     "text": [
      "After swapping\n",
      "a =  3\n",
      "b =  2\n"
     ]
    }
   ],
   "source": [
    "a = 2\n",
    "b = 3\n",
    "\n",
    "c = a\n",
    "a = b\n",
    "b = c\n",
    "\n",
    "print(\"After swapping\")\n",
    "print(\"a = \", a)\n",
    "print(\"b = \", b)"
   ]
  },
  {
   "cell_type": "code",
   "execution_count": null,
   "metadata": {},
   "outputs": [],
   "source": [
    "'''\n",
    "5. Write a Python program to generate a random number?\n",
    "'''"
   ]
  },
  {
   "cell_type": "code",
   "execution_count": 13,
   "metadata": {},
   "outputs": [
    {
     "name": "stdout",
     "output_type": "stream",
     "text": [
      "Random number is:: 2\n"
     ]
    }
   ],
   "source": [
    "import random\n",
    "n = random.randint(0,30)\n",
    "print(\"Random number is::\",n)"
   ]
  }
 ],
 "metadata": {
  "kernelspec": {
   "display_name": "Python 3",
   "language": "python",
   "name": "python3"
  },
  "language_info": {
   "codemirror_mode": {
    "name": "ipython",
    "version": 3
   },
   "file_extension": ".py",
   "mimetype": "text/x-python",
   "name": "python",
   "nbconvert_exporter": "python",
   "pygments_lexer": "ipython3",
   "version": "3.8.5"
  }
 },
 "nbformat": 4,
 "nbformat_minor": 4
}
