{
 "cells": [
  {
   "cell_type": "code",
   "execution_count": null,
   "metadata": {},
   "outputs": [],
   "source": [
    "'''\n",
    "1. Write a Python program to convert kilometers to miles?\n",
    "'''"
   ]
  },
  {
   "cell_type": "code",
   "execution_count": 14,
   "metadata": {},
   "outputs": [
    {
     "name": "stdout",
     "output_type": "stream",
     "text": [
      "Enter the kilometer value::4\n",
      "4 km is equal to:: 2.485484  miles\n"
     ]
    }
   ],
   "source": [
    "n = int(input(\"Enter the kilometer value::\"))\n",
    "a = n * .621371\n",
    "print(n, \"km is equal to::\", a , \" miles\")"
   ]
  },
  {
   "cell_type": "code",
   "execution_count": null,
   "metadata": {},
   "outputs": [],
   "source": [
    "'''\n",
    "2. Write a Python program to convert Celsius to Fahrenheit?\n",
    "'''"
   ]
  },
  {
   "cell_type": "code",
   "execution_count": 16,
   "metadata": {},
   "outputs": [
    {
     "name": "stdout",
     "output_type": "stream",
     "text": [
      "Enter the celsius value::3\n",
      "3 degree celsius is equla to 37.4 Fahrenheit\n"
     ]
    }
   ],
   "source": [
    "a = int(input(\"Enter the celsius value::\"))\n",
    "\n",
    "F = (a*9/5)+32\n",
    "print(a,\"degree celsius is equal to\", F, \"Fahrenheit\")"
   ]
  },
  {
   "cell_type": "code",
   "execution_count": null,
   "metadata": {},
   "outputs": [],
   "source": [
    "'''\n",
    "3. Write a Python program to display calendar?\n",
    "'''"
   ]
  },
  {
   "cell_type": "code",
   "execution_count": 23,
   "metadata": {},
   "outputs": [
    {
     "name": "stdout",
     "output_type": "stream",
     "text": [
      "Enter the year::2021\n",
      "Enter the month::5\n",
      "      May 2021\n",
      "Mo Tu We Th Fr Sa Su\n",
      "                1  2\n",
      " 3  4  5  6  7  8  9\n",
      "10 11 12 13 14 15 16\n",
      "17 18 19 20 21 22 23\n",
      "24 25 26 27 28 29 30\n",
      "31\n",
      "\n"
     ]
    }
   ],
   "source": [
    "import calendar\n",
    "\n",
    "year = int(input(\"Enter the year::\"))\n",
    "month = int(input(\"Enter the month::\"))\n",
    "\n",
    "cal=calendar.month(year,month)\n",
    "print(cal)"
   ]
  },
  {
   "cell_type": "code",
   "execution_count": null,
   "metadata": {},
   "outputs": [],
   "source": [
    "'''\n",
    "4. Write a Python program to solve quadratic equation?\n",
    "'''"
   ]
  },
  {
   "cell_type": "code",
   "execution_count": 25,
   "metadata": {},
   "outputs": [
    {
     "name": "stdout",
     "output_type": "stream",
     "text": [
      "Quadratic equation:- ax**2 + bx + c = 0\n",
      "Enter a(a!=0):4\n",
      "Enter b:-7\n",
      "Enter c:3\n",
      "\n",
      "\n",
      "Result for equation, 4x**2 + -7x + 3 = 0, are :- \n",
      "\n",
      "Type of Roots : Two Distinct Real Roots\n",
      "The solutions are (0.75+0j) and (1+0j)\n"
     ]
    }
   ],
   "source": [
    "import cmath\n",
    "\n",
    "print(\"Quadratic equation:- ax**2 + bx + c = 0\")\n",
    "\n",
    "a = int(input(\"Enter a(a!=0):\"))\n",
    "b = int(input(\"Enter b:\"))\n",
    "c = int(input(\"Enter c:\"))\n",
    "\n",
    "d = (b**2)-(4*a*c)\n",
    "\n",
    "sol1 = (-b-cmath.sqrt(d))/(2*a)\n",
    "sol2 = (-b+cmath.sqrt(d))/(2*a)\n",
    "\n",
    "print(\"\\n\")\n",
    "print(f\"Result for equation, {a}x**2 + {b}x + {c} = 0, are :- \\n\")\n",
    "\n",
    "if d>0:\n",
    "    print(\"Type of Roots : Two Distinct Real Roots\")\n",
    "elif d==0:\n",
    "    print(\"Type of Roots : Two Equal Real Roots\")\n",
    "elif d<0:\n",
    "    print(\"Type of Roots : Two Complex Roots\")\n",
    "    \n",
    "print(f\"The solutions are {sol1} and {sol2}\")"
   ]
  },
  {
   "cell_type": "code",
   "execution_count": null,
   "metadata": {},
   "outputs": [],
   "source": [
    "'''\n",
    "5. Write a Python program to swap two variables without temp variable?\n",
    "'''"
   ]
  },
  {
   "cell_type": "code",
   "execution_count": 28,
   "metadata": {},
   "outputs": [
    {
     "name": "stdout",
     "output_type": "stream",
     "text": [
      "Enter the value for a::2\n",
      "Enter the value for b::3\n",
      "After swapping\n",
      "a =  3\n",
      "b =  2\n"
     ]
    }
   ],
   "source": [
    "a = int(input(\"Enter the value for a::\"))\n",
    "b = int(input(\"Enter the value for b::\"))\n",
    "\n",
    "a = a+b\n",
    "b = a-b\n",
    "a = a-b\n",
    "\n",
    "print(\"After swapping\")\n",
    "\n",
    "print(\"a = \", a)\n",
    "print(\"b = \", b)\n",
    "\n"
   ]
  }
 ],
 "metadata": {
  "kernelspec": {
   "display_name": "Python 3",
   "language": "python",
   "name": "python3"
  },
  "language_info": {
   "codemirror_mode": {
    "name": "ipython",
    "version": 3
   },
   "file_extension": ".py",
   "mimetype": "text/x-python",
   "name": "python",
   "nbconvert_exporter": "python",
   "pygments_lexer": "ipython3",
   "version": "3.8.5"
  }
 },
 "nbformat": 4,
 "nbformat_minor": 4
}
