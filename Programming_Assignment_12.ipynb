{
 "cells": [
  {
   "cell_type": "code",
   "execution_count": null,
   "metadata": {},
   "outputs": [],
   "source": [
    "'''\n",
    "1. Write a Python program to Extract Unique values dictionary values?\n",
    "'''"
   ]
  },
  {
   "cell_type": "code",
   "execution_count": 9,
   "metadata": {},
   "outputs": [
    {
     "data": {
      "text/plain": [
       "{1, 2, 5, 6, 7, 8, 10, 11, 12}"
      ]
     },
     "execution_count": 9,
     "metadata": {},
     "output_type": "execute_result"
    }
   ],
   "source": [
    "dict_ = {'fs' : [5, 6, 7, 8],\n",
    "             'ijf' : [10, 11, 7, 5],\n",
    "             'lkewjflk' : [6, 12, 10, 8],\n",
    "             'wrojk' : [1, 2, 5]}\n",
    "\n",
    "l = []\n",
    "for i in dict_.values():\n",
    "    for j in i:\n",
    "        l.append(j)\n",
    "\n",
    "unique_valies = set(l)\n",
    "unique_valies\n",
    "    "
   ]
  },
  {
   "cell_type": "code",
   "execution_count": null,
   "metadata": {},
   "outputs": [],
   "source": [
    "'''\n",
    "2. Write a Python program to find the sum of all items in a dictionary?\n",
    "'''"
   ]
  },
  {
   "cell_type": "code",
   "execution_count": 16,
   "metadata": {},
   "outputs": [
    {
     "name": "stdout",
     "output_type": "stream",
     "text": [
      "20\n"
     ]
    }
   ],
   "source": [
    "dict_ = {'fs' : 5,\n",
    "             'ijf' : 6,\n",
    "             'lkewjflk' : 8,\n",
    "             'wrojk' : 1}\n",
    "\n",
    "l=[]\n",
    "for i in dict_.values():\n",
    "    l.append(i)\n",
    "\n",
    "sum = 0    \n",
    "for i in l:\n",
    "    sum = sum + i\n",
    "    \n",
    "print(sum)\n",
    "    "
   ]
  },
  {
   "cell_type": "code",
   "execution_count": null,
   "metadata": {},
   "outputs": [],
   "source": [
    "'''\n",
    "3. Write a Python program to Merging two Dictionaries?\n",
    "'''"
   ]
  },
  {
   "cell_type": "code",
   "execution_count": 3,
   "metadata": {},
   "outputs": [
    {
     "name": "stdout",
     "output_type": "stream",
     "text": [
      "{1: 'a', 2: 'c', 4: 'd'}\n"
     ]
    }
   ],
   "source": [
    "d = {1:'a',2:'b'}\n",
    "e = {2:'c',4:'d'}\n",
    "\n",
    "print({**d,**e})"
   ]
  },
  {
   "cell_type": "code",
   "execution_count": null,
   "metadata": {},
   "outputs": [],
   "source": [
    "'''\n",
    "4. Write a Python program to convert key-values list to flat dictionary?\n",
    "'''"
   ]
  },
  {
   "cell_type": "code",
   "execution_count": 12,
   "metadata": {},
   "outputs": [
    {
     "name": "stdout",
     "output_type": "stream",
     "text": [
      "{1: 'mon', 2: 'tues', 3: 'wed', 4: 'thurs'}\n"
     ]
    }
   ],
   "source": [
    "dict_ = {'number':[1,2,3,4],\n",
    "         'week':['mon','tues','wed','thurs'],\n",
    "        }\n",
    "\n",
    "a = dict(zip(dict_['number'],dict_['week']))\n",
    "print(a)\n",
    "\n"
   ]
  },
  {
   "cell_type": "code",
   "execution_count": null,
   "metadata": {},
   "outputs": [],
   "source": [
    "'''\n",
    "5. Write a Python program to insertion at the beginning in OrderedDict?\n",
    "''' "
   ]
  },
  {
   "cell_type": "code",
   "execution_count": 1,
   "metadata": {},
   "outputs": [
    {
     "data": {
      "text/plain": [
       "OrderedDict([('c', '7'), ('a', '1'), ('b', '2')])"
      ]
     },
     "execution_count": 1,
     "metadata": {},
     "output_type": "execute_result"
    }
   ],
   "source": [
    "from collections import OrderedDict\n",
    "\n",
    "dict1_ = OrderedDict([('a', '1'), ('b','2')])\n",
    "dict1_.update({'c':'7'})\n",
    "dict1_.move_to_end('c', last=False)\n",
    "\n",
    "dict1_\n",
    "\n",
    "\n",
    "\n",
    "    "
   ]
  },
  {
   "cell_type": "code",
   "execution_count": null,
   "metadata": {},
   "outputs": [],
   "source": [
    "'''\n",
    "6. Write a Python program to check order of character in string using OrderedDict()?\n",
    "'''"
   ]
  },
  {
   "cell_type": "code",
   "execution_count": 8,
   "metadata": {},
   "outputs": [
    {
     "name": "stdout",
     "output_type": "stream",
     "text": [
      "False\n",
      "True\n"
     ]
    }
   ],
   "source": [
    "from collections import OrderedDict \n",
    "def checkOrder(s, p): \n",
    "    dic = OrderedDict.fromkeys(s) \n",
    "    ptr = 0\n",
    "    for key,value in dic.items(): \n",
    "        if (key == p[ptr]): \n",
    "            ptr = ptr + 1\n",
    "        if (ptr == (len(p))): \n",
    "            return 'True'\n",
    "    return 'False'\n",
    "\n",
    "s = 'Study tonight'\n",
    "p = 'stu'\n",
    "print (checkOrder(s,p))\n",
    "\n",
    "s2= 'Welcome'\n",
    "p2= 'cm'\n",
    "print (checkOrder(s2,p2)) "
   ]
  },
  {
   "cell_type": "code",
   "execution_count": null,
   "metadata": {},
   "outputs": [],
   "source": [
    "'''\n",
    "7. Write a Python program to sort Python Dictionaries by Key or Value?\n",
    "'''"
   ]
  },
  {
   "cell_type": "code",
   "execution_count": 4,
   "metadata": {},
   "outputs": [
    {
     "name": "stdout",
     "output_type": "stream",
     "text": [
      "OrderedDict([('rajesh', '10'), ('sanjeev', '9'), ('sonu', '15'), ('tom', '2'), ('victor', '32')])\n"
     ]
    }
   ],
   "source": [
    "from collections import OrderedDict\n",
    " \n",
    "dict = {'rajesh':'10','sanjeev':'9','sonu':'15','tom':'2','victor':'32'}\n",
    "dict1 = OrderedDict(sorted(dict.items()))\n",
    "print(dict1)"
   ]
  }
 ],
 "metadata": {
  "kernelspec": {
   "display_name": "Python 3",
   "language": "python",
   "name": "python3"
  },
  "language_info": {
   "codemirror_mode": {
    "name": "ipython",
    "version": 3
   },
   "file_extension": ".py",
   "mimetype": "text/x-python",
   "name": "python",
   "nbconvert_exporter": "python",
   "pygments_lexer": "ipython3",
   "version": "3.8.5"
  }
 },
 "nbformat": 4,
 "nbformat_minor": 4
}
