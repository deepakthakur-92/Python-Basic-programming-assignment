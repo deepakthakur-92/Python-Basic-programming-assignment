{
 "cells": [
  {
   "cell_type": "code",
   "execution_count": null,
   "metadata": {},
   "outputs": [],
   "source": [
    "'''\n",
    "1. Write a Python program to find words which are greater than given length k?\n",
    "'''"
   ]
  },
  {
   "cell_type": "code",
   "execution_count": 5,
   "metadata": {},
   "outputs": [],
   "source": [
    "def string_k(k,s):\n",
    "    list = []\n",
    "    s1 = s.split()\n",
    "    \n",
    "    for i in s1:\n",
    "        if len(i) > k:\n",
    "            list.append(i)\n",
    "            \n",
    "    return list\n",
    "    "
   ]
  },
  {
   "cell_type": "code",
   "execution_count": 6,
   "metadata": {},
   "outputs": [
    {
     "data": {
      "text/plain": [
       "['hello', 'world', 'chitti', 'robot']"
      ]
     },
     "execution_count": 6,
     "metadata": {},
     "output_type": "execute_result"
    }
   ],
   "source": [
    "string_k(4, \"hello world I am chitti the robot\")"
   ]
  },
  {
   "cell_type": "code",
   "execution_count": null,
   "metadata": {},
   "outputs": [],
   "source": [
    "'''\n",
    "2. Write a Python program for removing i-th character from a string?\n",
    "'''"
   ]
  },
  {
   "cell_type": "code",
   "execution_count": 32,
   "metadata": {},
   "outputs": [],
   "source": [
    "def string_i(i,s):\n",
    "    \n",
    "    for j in range(len(s)):\n",
    "        if j == i:\n",
    "            s=s.replace(s[j],\"\",1)\n",
    "    return s        \n",
    "    "
   ]
  },
  {
   "cell_type": "code",
   "execution_count": 33,
   "metadata": {},
   "outputs": [
    {
     "data": {
      "text/plain": [
       "'depak'"
      ]
     },
     "execution_count": 33,
     "metadata": {},
     "output_type": "execute_result"
    }
   ],
   "source": [
    "string_i(2,\"deepak\")"
   ]
  },
  {
   "cell_type": "code",
   "execution_count": null,
   "metadata": {},
   "outputs": [],
   "source": [
    "'''\n",
    "3. Write a Python program to split and join a string?\n",
    "'''"
   ]
  },
  {
   "cell_type": "code",
   "execution_count": 8,
   "metadata": {},
   "outputs": [],
   "source": [
    "def split_s(s):\n",
    "    s1 = s.split()\n",
    "    \n",
    "    return s1\n",
    "\n",
    "def join(s1):\n",
    "    \n",
    "    s2 = \"_\".join(s1)\n",
    "    \n",
    "    return s2\n",
    "\n"
   ]
  },
  {
   "cell_type": "code",
   "execution_count": 9,
   "metadata": {},
   "outputs": [
    {
     "name": "stdout",
     "output_type": "stream",
     "text": [
      "['I', 'am', 'human', 'being', 'and', 'a', 'super', 'hero']\n",
      "I_am_human_being_and_a_super_hero\n"
     ]
    }
   ],
   "source": [
    "s1 = split_s(\"I am human being and a super hero\")\n",
    "print(s1)\n",
    "s2 = join(s1)\n",
    "print(s2)"
   ]
  },
  {
   "cell_type": "code",
   "execution_count": null,
   "metadata": {},
   "outputs": [],
   "source": [
    "'''\n",
    "4. Write a Python to check if a given string is binary string or not?\n",
    "'''"
   ]
  },
  {
   "cell_type": "code",
   "execution_count": 15,
   "metadata": {},
   "outputs": [],
   "source": [
    "def binary_string(s):\n",
    "    \n",
    "    a = set(s)\n",
    "    b = {'0', '1'}\n",
    "    \n",
    "    if a == b or a == {'0'} or a == {'1'}:\n",
    "        print(\"Given string is binary string\")\n",
    "    else:\n",
    "        print(\"Given string is not binary string\")"
   ]
  },
  {
   "cell_type": "code",
   "execution_count": 22,
   "metadata": {},
   "outputs": [
    {
     "name": "stdout",
     "output_type": "stream",
     "text": [
      "Given string is binary string\n"
     ]
    }
   ],
   "source": [
    "binary_string(\"01010101010\")"
   ]
  },
  {
   "cell_type": "code",
   "execution_count": null,
   "metadata": {},
   "outputs": [],
   "source": [
    "'''\n",
    "5. Write a Python program to find uncommon words from two Strings?\n",
    "'''"
   ]
  },
  {
   "cell_type": "code",
   "execution_count": 8,
   "metadata": {},
   "outputs": [],
   "source": [
    "def uncmmn(s1,s2):\n",
    "    \n",
    "    split_s1 = s1.split()\n",
    "    split_s2 = s2.split()\n",
    "    a = \"\"\n",
    "    \n",
    "    for i in split_s1:\n",
    "        if i not in split_s2:\n",
    "            a = a+ \" \"+i\n",
    "            \n",
    "    for j in split_s2:\n",
    "        if j not in split_s1:\n",
    "            a = a+ \" \" +j\n",
    "            \n",
    "    return a\n",
    "    \n",
    "    \n",
    "    \n",
    "\n"
   ]
  },
  {
   "cell_type": "code",
   "execution_count": 9,
   "metadata": {},
   "outputs": [
    {
     "data": {
      "text/plain": [
       "' id is first'"
      ]
     },
     "execution_count": 9,
     "metadata": {},
     "output_type": "execute_result"
    }
   ],
   "source": [
    "uncmmn(\"my name id deepak\", \"deepak is my first name\")\n"
   ]
  },
  {
   "cell_type": "code",
   "execution_count": null,
   "metadata": {},
   "outputs": [],
   "source": [
    "'''\n",
    "6. Write a Python to find all duplicate characters in string?\n",
    "'''"
   ]
  },
  {
   "cell_type": "code",
   "execution_count": 12,
   "metadata": {},
   "outputs": [
    {
     "name": "stdout",
     "output_type": "stream",
     "text": [
      "['m', 'a', 'e']\n"
     ]
    }
   ],
   "source": [
    "s = \"mynameisdeepak\"\n",
    "l = []\n",
    "for i in s:\n",
    "    if s.count(i) > 1:\n",
    "        if i not in l:\n",
    "            l.append(i)\n",
    "            \n",
    "print(l)\n",
    "        \n",
    "\n"
   ]
  },
  {
   "cell_type": "code",
   "execution_count": null,
   "metadata": {},
   "outputs": [],
   "source": [
    "'''\n",
    "7. Write a Python Program to check if a string contains any special character?\n",
    "'''"
   ]
  },
  {
   "cell_type": "code",
   "execution_count": 13,
   "metadata": {},
   "outputs": [
    {
     "name": "stdout",
     "output_type": "stream",
     "text": [
      "special character found\n"
     ]
    }
   ],
   "source": [
    "import re\n",
    "\n",
    "s = \"My@@nam*e()id\\/deepak&^%$#@!\"\n",
    "\n",
    "reg_ex = re.compile('[@_!#$%^&*()<>?/\\|}{~:]')\n",
    "\n",
    "if(reg_ex.search(s) == None):\n",
    "    print(\"no special character found\")\n",
    "else:\n",
    "    print(\"special character found\")"
   ]
  }
 ],
 "metadata": {
  "kernelspec": {
   "display_name": "Python 3",
   "language": "python",
   "name": "python3"
  },
  "language_info": {
   "codemirror_mode": {
    "name": "ipython",
    "version": 3
   },
   "file_extension": ".py",
   "mimetype": "text/x-python",
   "name": "python",
   "nbconvert_exporter": "python",
   "pygments_lexer": "ipython3",
   "version": "3.8.5"
  }
 },
 "nbformat": 4,
 "nbformat_minor": 4
}
